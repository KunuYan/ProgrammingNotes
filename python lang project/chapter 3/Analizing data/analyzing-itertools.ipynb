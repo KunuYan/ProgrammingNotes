{
 "cells": [
  {
   "cell_type": "code",
   "execution_count": 10,
   "metadata": {},
   "outputs": [
    {
     "name": "stdout",
     "output_type": "stream",
     "text": [
      "15 17 19 21 23 25 27 29 31 33 35 37 39 /n\n",
      "yes yes yes yes yes yes yes []\n",
      "[]\n",
      "[]\n",
      "<itertools.chain object at 0x7fbd04032450>\n",
      "1\n",
      "2\n",
      "3\n",
      "a\n",
      "s\n",
      "t\n",
      "r\n",
      "i\n",
      "n\n",
      "g\n",
      "a\n",
      "of\n",
      "strings\n",
      "set\n"
     ]
    }
   ],
   "source": [
    "'''\n",
    "Lets you process large volumes of data more efficiently.\n",
    "'''\n",
    "\n",
    "import itertools as it\n",
    "\n",
    "\n",
    "\n",
    "\n",
    "# Utility Functions\n",
    "# -------------------- count -------------------\n",
    "for n in it.count(15,2): # work like range(), but you give a start and it grows forever\n",
    "    if n < 40: print(n, end=' ')\n",
    "    else: break\n",
    "        \n",
    "print('/n')        \n",
    "for n in range(7):\n",
    "    print(next(it.repeat('yes ')), end='')\n",
    "    \n",
    "list(it.repeat(6, 3)) # repeat argument continuously or specified repetition num\n",
    "\n",
    "'''\n",
    "Several itertools functions produce a potentially infinite series\n",
    "'''\n",
    "\n",
    "# -------------------- cycle -------------------\n",
    "res1 = []\n",
    "res2 = []\n",
    "res3 = []\n",
    "resources = it.cycle([res1,res2,res3]) # rotate over an input sequence, good for turn based resource allocation\n",
    "for n in range(30):\n",
    "    res = next(resources)\n",
    "    res.append\n",
    "    \n",
    "print(res1)\n",
    "print(res2)\n",
    "print(res3)\n",
    "\n",
    "# -------------------- chain -------------------\n",
    "items = it.chain([1,2,3],'astring',{'a','set','of','strings'}) # allow concatation of different collection types\n",
    "for item in items:\n",
    "    print(item)\n",
    "    \n",
    "# -------------------- islice -------------------\n",
    "data = list(range(20))\n",
    "data[3:12:2]\n",
    "\n",
    "for d in it.islice(data,3,12,2): # work like normal slicing but memory efficient and can't index backward and you pass in the iterable\n",
    "    print(d, end=' ')\n"
   ]
  },
  {
   "cell_type": "code",
   "execution_count": 43,
   "metadata": {},
   "outputs": [
    {
     "name": "stdout",
     "output_type": "stream",
     "text": [
      "2\n",
      "5\n",
      "10 11 12 13 14 15 16 17 18 19 /n\n",
      "0 1 2 3 4 5 6 7 8 9 /n\n",
      "1 3 6 10 /n\n",
      "True\n",
      "False\n",
      "False\n",
      "True\n",
      "True <itertools._grouper object at 0x7fbcfd7f6b10>\n",
      "False <itertools._grouper object at 0x7fbcfd7f6190>\n",
      "True <itertools._grouper object at 0x7fbcfd7f63d0>\n",
      "/n\n",
      "False <itertools._grouper object at 0x7fbcfd7f5250>\n",
      "True <itertools._grouper object at 0x7fbcfd7f5410>\n",
      "/n\n"
     ]
    },
    {
     "data": {
      "text/plain": [
       "{True: [[[1, 2, 3, 4, 5], [1, 3, 5, 7, 9]]],\n",
       " False: [[[6, 7, 8, 9, 0], [0, 2, 4, 6, 8]]]}"
      ]
     },
     "execution_count": 43,
     "metadata": {},
     "output_type": "execute_result"
    }
   ],
   "source": [
    "# Data Processing Functions\n",
    "# -------------------- compress -------------------\n",
    "for item in it.compress([1,2,3,4,5],[False,True,False,0,1]): # takes a collection of data 1rst and collection of bool 2nd, return data from 1rst  that correspong to True from second\n",
    "    print(item)\n",
    "                # it.filterfalse() does the oposite\n",
    "        \n",
    "# -------------------- dropwhile/takewhile() -------------------\n",
    "\"\"\"\n",
    "both take a function and and collection data type or iterators, apply function to the data,\n",
    "dropwhile() ignores all input element till the function evaluate to False,\n",
    "takewhile() return elemts untill function evaluate to False\n",
    "!!The the trigger work once!! so even if a element would have evaluate \n",
    "to false before the trigger, it will be true after the trigger\n",
    "\"\"\"\n",
    "def singleDigit(n): return n < 10\n",
    "\n",
    "for n in it.dropwhile(singleDigit,range(20)): print(n,end=' ')\n",
    "print('/n')\n",
    "for n in it.takewhile(singleDigit,range(20)): print(n,end=' ')\n",
    "print('/n')\n",
    "\n",
    "# -------------------- accumulate -------------------\n",
    "for n in it.accumulate([1,2,3,4,]): # it appllies it's input function to each element of the input data along with result of previous operation(default operation is addition)\n",
    "    print(n, end=' ')\n",
    "    \n",
    "# -------------------- groupby -------------------\n",
    "'''\n",
    "collects input data into groupes based on a key derived from an input function and return those groupes as iterators\n",
    "groupe based on different key, even an existing key that exist already is found again, it will still make new groupe\n",
    "it is best if the input data is sorted in a way that when groupeby is called, no repeating key will be created.\n",
    "the groupe generated by groupeby() are not independant iterators so are not saved in memory,to retain groupes copy them into a cotainer(exmp:list)\n",
    "'''\n",
    "print('/n')\n",
    "data = [[1,2,3,4,5],[6,7,8,9,0],[0,2,4,6,8],[1,3,5,7,9]]\n",
    "for d in data: print(all(d)) # all() return true when all when all it's elemt are true and vice versa\n",
    "\n",
    "for ky,grp in it.groupby(data,key=all): # we can use all() to generate keys, wich are true and false\n",
    "    print(ky, grp)\n",
    "\n",
    "print('/n')\n",
    "# sorted data\n",
    "for ky,grp in it.groupby(sorted(data,key=all), key=all):\n",
    "    print(ky, grp)\n",
    "\n",
    "print('/n')\n",
    "# to access them, tyou must save groupe in container\n",
    "groups = {True:[], False:[]}\n",
    "for ky,grp in it.groupby(sorted(data,key=all), key=all):\n",
    "    groups[ky].append(list(grp)) # list the object or they will be python object binary\n",
    "\n",
    "groups\n",
    "\n"
   ]
  },
  {
   "cell_type": "code",
   "execution_count": 46,
   "metadata": {},
   "outputs": [
    {
     "ename": "SyntaxError",
     "evalue": "invalid character in identifier (<ipython-input-46-a975e95f09af>, line 27)",
     "output_type": "error",
     "traceback": [
      "\u001b[0;36m  File \u001b[0;32m\"<ipython-input-46-a975e95f09af>\"\u001b[0;36m, line \u001b[0;32m27\u001b[0m\n\u001b[0;31m    def returned(loan): return not (loan[‐1] == 'None')\u001b[0m\n\u001b[0m                                          ^\u001b[0m\n\u001b[0;31mSyntaxError\u001b[0m\u001b[0;31m:\u001b[0m invalid character in identifier\n"
     ]
    }
   ],
   "source": [
    "# using itertools to analyze LendyDB Data\n",
    "from lendydata import *\n",
    "from itertools import *\n",
    "\n",
    "# What is the total cost of all items?\n",
    "def cost(item):\n",
    "    return int(item[4][1:])\n",
    "\n",
    "for n in islice(accumulate(cost(item) for item in items[1:]), \n",
    "               len(items)-2, None):\n",
    "    print(n)\n",
    "\n",
    "# What is the average cost of an item?\n",
    "print(n/len(items) - 1)\n",
    "\n",
    "# Who contributed the most items?\n",
    "def owner(item): return item[3]\n",
    "\n",
    "owners = {}\n",
    "for ky,grp in groupby(sorted(items[1:], key=owner), key=owner):\n",
    "    owners[ky] = len(list(grp))\n",
    "    \n",
    "for member in members[1:]:\n",
    "    print(member[1],' : ', owners[member[0]])\n",
    "\n",
    "# Which items are currently on loan?\n",
    "def returned(loan): return not (loan[‐1] == 'None')\n",
    "\n",
    "[print(items[int(loan[1])]) for loan in filterfalse(returned,loans)]\n"
   ]
  },
  {
   "cell_type": "code",
   "execution_count": null,
   "metadata": {},
   "outputs": [],
   "source": []
  },
  {
   "cell_type": "code",
   "execution_count": null,
   "metadata": {},
   "outputs": [],
   "source": []
  },
  {
   "cell_type": "code",
   "execution_count": null,
   "metadata": {},
   "outputs": [],
   "source": []
  }
 ],
 "metadata": {
  "kernelspec": {
   "display_name": "Python 3",
   "language": "python",
   "name": "python3"
  },
  "language_info": {
   "codemirror_mode": {
    "name": "ipython",
    "version": 3
   },
   "file_extension": ".py",
   "mimetype": "text/x-python",
   "name": "python",
   "nbconvert_exporter": "python",
   "pygments_lexer": "ipython3",
   "version": "3.7.4"
  }
 },
 "nbformat": 4,
 "nbformat_minor": 2
}
