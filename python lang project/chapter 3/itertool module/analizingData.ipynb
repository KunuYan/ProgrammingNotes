{
 "cells": [
  {
   "cell_type": "code",
   "execution_count": 4,
   "metadata": {},
   "outputs": [],
   "source": [
    "from lendydata import *"
   ]
  },
  {
   "cell_type": "code",
   "execution_count": 5,
   "metadata": {},
   "outputs": [
    {
     "name": "stdout",
     "output_type": "stream",
     "text": [
      "[['ID', 'ItemID', 'BorrowerID', 'DateBorrowed', 'DateReturned'], ['1', '1', '3', '4/1/2012', '4/26/2012'], ['2', '2', '5', '9/5/2012', '1/5/2013'], ['3', '3', '4', '7/3/2013', '7/22/2013'], ['4', '4', '1', '11/19/2013', '11/29/2013'], ['5', '5', '2', '12/5/2013', 'None']]\n"
     ]
    }
   ],
   "source": [
    "print(loans)"
   ]
  },
  {
   "cell_type": "code",
   "execution_count": 6,
   "metadata": {},
   "outputs": [
    {
     "data": {
      "text/plain": [
       "370"
      ]
     },
     "execution_count": 6,
     "metadata": {},
     "output_type": "execute_result"
    }
   ],
   "source": [
    "def cost(item):\n",
    "    return int(item[4][1:])\n",
    "\n",
    "cost(items[2])\n"
   ]
  },
  {
   "cell_type": "code",
   "execution_count": 7,
   "metadata": {},
   "outputs": [
    {
     "data": {
      "text/plain": [
       "1100"
      ]
     },
     "execution_count": 7,
     "metadata": {},
     "output_type": "execute_result"
    }
   ],
   "source": [
    "sum(cost(item) for item in items[1:])"
   ]
  },
  {
   "cell_type": "code",
   "execution_count": 8,
   "metadata": {},
   "outputs": [
    {
     "data": {
      "text/plain": [
       "183.33333333333334"
      ]
     },
     "execution_count": 8,
     "metadata": {},
     "output_type": "execute_result"
    }
   ],
   "source": [
    "sum(cost(item) for item in items[1:]) / (len(items) - 1)"
   ]
  },
  {
   "cell_type": "code",
   "execution_count": 9,
   "metadata": {},
   "outputs": [
    {
     "name": "stdout",
     "output_type": "stream",
     "text": [
      "Fred : 2\n",
      "Mike : 1\n",
      "Joe : 1\n",
      "Rob : 1\n",
      "Anne : 1\n"
     ]
    }
   ],
   "source": [
    "def owner(item): return item[3]\n",
    "\n",
    "for member in members[1:]:\n",
    "    count = 0\n",
    "    for item in items[1:]:\n",
    "        if owner(item) == member[0]:\n",
    "            count += 1\n",
    "    print(member[1], ':',count)"
   ]
  },
  {
   "cell_type": "code",
   "execution_count": 10,
   "metadata": {},
   "outputs": [
    {
     "data": {
      "text/plain": [
       "[['5', 'Scarifier', 'Tool', '5', '$200', 'Average', '2013‐09‐14']]"
      ]
     },
     "execution_count": 10,
     "metadata": {},
     "output_type": "execute_result"
    }
   ],
   "source": [
    "def onLoan(loan): return loan[-1] == 'None'\n",
    "\n",
    "[items[int(loan[1])] for loan in loans if onLoan(loan)]"
   ]
  },
  {
   "cell_type": "code",
   "execution_count": null,
   "metadata": {},
   "outputs": [],
   "source": []
  }
 ],
 "metadata": {
  "kernelspec": {
   "display_name": "Python 3",
   "language": "python",
   "name": "python3"
  },
  "language_info": {
   "codemirror_mode": {
    "name": "ipython",
    "version": 3
   },
   "file_extension": ".py",
   "mimetype": "text/x-python",
   "name": "python",
   "nbconvert_exporter": "python",
   "pygments_lexer": "ipython3",
   "version": "3.7.4"
  }
 },
 "nbformat": 4,
 "nbformat_minor": 2
}
