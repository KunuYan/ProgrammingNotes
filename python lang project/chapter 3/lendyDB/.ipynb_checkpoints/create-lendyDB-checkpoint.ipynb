{
 "cells": [
  {
   "cell_type": "code",
   "execution_count": 7,
   "metadata": {},
   "outputs": [
    {
     "name": "stdout",
     "output_type": "stream",
     "text": [
      "Creating data files...\n",
      "this is the key:  b'1,Lawnmower,Tool,1,$150,Excellent,2012\\xe2\\x80\\x9001\\xe2\\x80\\x9005'\n",
      "this is the key:  b'2,Lawnmower,Tool,2,$370,Fair,2012\\xe2\\x80\\x9004\\xe2\\x80\\x9001'\n",
      "this is the key:  b'3,Bike,Vehicle,3,$200,Good,2013\\xe2\\x80\\x9003\\xe2\\x80\\x9022'\n",
      "this is the key:  b'4,Drill,Tool,4,$100,Good,2013\\xe2\\x80\\x9010\\xe2\\x80\\x9028'\n",
      "this is the key:  b'5,Scarifier,Tool,5,$200,Average,2013\\xe2\\x80\\x9009\\xe2\\x80\\x9014'\n",
      "this is the key:  b'6,Sprinkler,Tool,1,$80,Good,2014\\xe2\\x80\\x9001\\xe2\\x80\\x9006'\n",
      "itemdb created\n",
      "this is the key:  b'1,Fred,fred@lendylib.org'\n",
      "this is the key:  b'2,Mike,mike@gmail.com'\n",
      "this is the key:  b'3,Joe,joe@joesmail.com'\n",
      "this is the key:  b'4,Rob,rjb@somcorp.com'\n",
      "this is the key:  b'5,Anne,annie@bigbiz.com'\n",
      "memberdb created\n",
      "this is the key:  b'1,1,3,4/1/2012,4/26/2012'\n",
      "this is the key:  b'2,2,5,9/5/2012,1/5/2013'\n",
      "this is the key:  b'3,3,4,7/3/2013,7/22/2013'\n",
      "this is the key:  b'4,4,1,11/19/2013,11/29/2013'\n",
      "this is the key:  b'5,5,2,12/5/2013,None'\n",
      "loandb created\n",
      "reading data files...\n",
      "Reading  itemdb\n",
      "[b'1,Lawnmower,Tool,1,$150,Excellent,2012\\xe2\\x80\\x9001\\xe2\\x80\\x9005', b'2,Lawnmower,Tool,2,$370,Fair,2012\\xe2\\x80\\x9004\\xe2\\x80\\x9001', b'3,Bike,Vehicle,3,$200,Good,2013\\xe2\\x80\\x9003\\xe2\\x80\\x9022', b'4,Drill,Tool,4,$100,Good,2013\\xe2\\x80\\x9010\\xe2\\x80\\x9028', b'5,Scarifier,Tool,5,$200,Average,2013\\xe2\\x80\\x9009\\xe2\\x80\\x9014', b'6,Sprinkler,Tool,1,$80,Good,2014\\xe2\\x80\\x9001\\xe2\\x80\\x9006']\n",
      "Reading  memberdb\n",
      "[b'1,Fred,fred@lendylib.org', b'2,Mike,mike@gmail.com', b'3,Joe,joe@joesmail.com', b'4,Rob,rjb@somcorp.com', b'5,Anne,annie@bigbiz.com']\n",
      "Reading  loandb\n",
      "[b'1,1,3,4/1/2012,4/26/2012', b'2,2,5,9/5/2012,1/5/2013', b'3,3,4,7/3/2013,7/22/2013', b'4,4,1,11/19/2013,11/29/2013', b'5,5,2,12/5/2013,None']\n"
     ]
    }
   ],
   "source": [
    "import dbm\n",
    "\n",
    "# ID, Name, Description, OwnerID, Price, Condition, DateRegistered \n",
    "items = [\n",
    "['1','Lawnmower','Tool','1','$150','Excellent','2012‐01‐05'],\n",
    "['2','Lawnmower','Tool','2','$370','Fair','2012‐04‐01'],\n",
    "['3','Bike','Vehicle','3','$200','Good','2013‐03‐22'], \n",
    "['4','Drill','Tool','4','$100','Good','2013‐10‐28'], \n",
    "['5','Scarifier','Tool','5','$200','Average','2013‐09‐14'],\n",
    "['6','Sprinkler','Tool','1','$80','Good','2014‐01‐06'] \n",
    "]\n",
    "\n",
    "# ID, Name, Email \n",
    "members = [\n",
    "['1', 'Fred', 'fred@lendylib.org'],\n",
    "['2', 'Mike', 'mike@gmail.com'],\n",
    "['3', 'Joe', 'joe@joesmail.com'],\n",
    "['4', 'Rob', 'rjb@somcorp.com'],\n",
    "['5', 'Anne', 'annie@bigbiz.com'],\n",
    "] \n",
    "\n",
    "# ID, ItemID, BorrowerID, DateBorrowed, DateReturned \n",
    "loans = [\n",
    "['1','1','3','4/1/2012','4/26/2012'],\n",
    "['2','2','5','9/5/2012','1/5/2013'],\n",
    "['3','3','4','7/3/2013','7/22/2013'],\n",
    "['4','4','1','11/19/2013','11/29/2013'], \n",
    "['5','5','2','12/5/2013','None']\n",
    "] \n",
    "\n",
    "'''\n",
    "dbm module use persitence dictionary dbms. it determines wich dictionary dbm to use by itself\n",
    "base on the os, or use a pure python one if none is found. basically we just create a db\n",
    "and add items using a key(wich normaly is id_of_item_in_that_db in str) and a value(row of data converted\n",
    "to string with each item separated by comma). After you create a db, dbm creates 3 files, one with\n",
    "actual data, other 2 help dbm index data of that db.\n",
    "'''\n",
    "def createDB(data, dbName): \n",
    "     try:\n",
    "        db = dbm.open(dbName, 'c') # create a new db with create mode\n",
    "        for datum in data:# loop through data\n",
    "            # store the data as a dic\n",
    "            db[datum[0]] = ','.join(datum) # use first field as key(id) and string of other fields separated by comma as values\n",
    "     finally:\n",
    "        db.close() # make sure that the db was created properly by closing it\n",
    "        print(dbName, 'created')\n",
    "        \n",
    "def readDB(dbName):\n",
    "     try:\n",
    "        db = dbm.open(dbName, 'r') # read the db with read mode\n",
    "        print('Reading ', dbName)\n",
    "        return [db[datum] for datum in db] # printing the data as a list of all datum(each row with id)\n",
    "     finally:\n",
    "        db.close() # close db when done\n",
    "        \n",
    "def main():\n",
    "     print('Creating data files...')\n",
    "     createDB(items, 'itemdb') # note you don't give extention, dbm does it itself\n",
    "     createDB(members, 'memberdb')\n",
    "     createDB(loans, 'loandb')\n",
    "    \n",
    "     print('reading data files...')\n",
    "     print(readDB('itemdb')) \n",
    "     print(readDB('memberdb')) \n",
    "     print(readDB('loandb'))\n",
    "    \n",
    "if __name__ == \"__main__\": main()\n"
   ]
  },
  {
   "cell_type": "code",
   "execution_count": 17,
   "metadata": {},
   "outputs": [
    {
     "ename": "SyntaxError",
     "evalue": "invalid syntax (<ipython-input-17-79f282767797>, line 8)",
     "output_type": "error",
     "traceback": [
      "\u001b[1;36m  File \u001b[1;32m\"<ipython-input-17-79f282767797>\"\u001b[1;36m, line \u001b[1;32m8\u001b[0m\n\u001b[1;33m    loans = dbm.open('loandb'. 'r')\u001b[0m\n\u001b[1;37m                                 ^\u001b[0m\n\u001b[1;31mSyntaxError\u001b[0m\u001b[1;31m:\u001b[0m invalid syntax\n"
     ]
    }
   ],
   "source": [
    "#  once db is created, we can now read and edit it's contents.\n",
    "import os\n",
    "\n",
    "# change into folder containing db\n",
    "os.chdir(r'C:\\Users\\male-\\OneDrive\\Documents\\python lang project\\chapter 3\\lendyDB')\n",
    "items = dbm.open('itemdb')\n",
    "members = dbm.open('memberdb') # we opened the db that was created earlier\n",
    "loans = dbm.open('loandb','w')\n",
    "\n",
    "loan2 = loans['2'].decode() # use decode to convert from dbm dytes format to python str\n",
    "print(loan2)\n",
    "loan2 = loan2.split(',')\n",
    "print(loan2)\n",
    "item2 = items[loan2[1]].decode().split(',')\n",
    "print(item2)\n",
    "member2 = members[loan2[2]].decode().split(',')\n",
    "print(member2)\n",
    "print('{} borrowed a {} on {}'.format(member2[1],item2[1],loan2[3]))\n",
    "'''\n",
    "as you see from results, you can get what data you want by using the id you\n",
    "get from one db into an other db.\n",
    "'''\n"
   ]
  },
  {
   "cell_type": "code",
   "execution_count": 20,
   "metadata": {},
   "outputs": [
    {
     "name": "stdout",
     "output_type": "stream",
     "text": [
      "8\n",
      "b'9,2,1,4/5/2014'\n"
     ]
    },
    {
     "name": "stderr",
     "output_type": "stream",
     "text": [
      "C:\\Users\\male-\\Anaconda3\\lib\\site-packages\\ipykernel_launcher.py:5: DeprecationWarning: The database is opened for reading only\n",
      "  \"\"\"\n"
     ]
    }
   ],
   "source": [
    "# to create a new record, btw we haven't closed the db yet.\n",
    "print(max(loans.keys()).decode())\n",
    "key = int(max(loans.keys()).decode()) + 1\n",
    "newloan = [str(key),'2','1','4/5/2014'] \n",
    "loans[str(key)] = ','.join(newloan)\n",
    "print(loans[str(key)])"
   ]
  },
  {
   "cell_type": "code",
   "execution_count": null,
   "metadata": {},
   "outputs": [],
   "source": []
  }
 ],
 "metadata": {
  "kernelspec": {
   "display_name": "Python 3",
   "language": "python",
   "name": "python3"
  },
  "language_info": {
   "codemirror_mode": {
    "name": "ipython",
    "version": 3
   },
   "file_extension": ".py",
   "mimetype": "text/x-python",
   "name": "python",
   "nbconvert_exporter": "python",
   "pygments_lexer": "ipython3",
   "version": "3.6.5"
  }
 },
 "nbformat": 4,
 "nbformat_minor": 2
}
