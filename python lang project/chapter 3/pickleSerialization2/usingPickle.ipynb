{
 "cells": [
  {
   "cell_type": "code",
   "execution_count": 4,
   "metadata": {},
   "outputs": [
    {
     "name": "stdout",
     "output_type": "stream",
     "text": [
      "converting from python data type to binary (serializing data)\n",
      "saving python binary to pickle file\n",
      "done\n",
      "Retrieving python binary data from pickle file\n",
      "converting back to python data type\n",
      "finished\n",
      "[(1, 'Lawnmower', 'Tool', 1, {'price': '$150'}, 'Excellent', '2012‐01‐05'), (2, 'Lawnmower', 'Tool', 2, {'price': '$370'}, 'Fair', '2012‐04‐01'), (3, 'Bike', 'Vehicle', 3, {'price': '$200'}, 'Good', '2013‐03‐22'), (4, 'Drill', 'Tool', 4, {'price': '$100'}, 'Good', '2013‐10‐28'), (5, 'Scarifier', 'Tool', 5, {'price': '$200'}, 'Average', '2013‐09‐14'), (6, 'Sprinkler', 'Tool', 1, {'price': '$80'}, 'Good', '2014‐01‐06')]\n"
     ]
    }
   ],
   "source": [
    "import pickle\n",
    "\n",
    "# ID, Name, Description, OwnerID, Price, Condition, DateRegistered \n",
    "items = [\n",
    "(1,'Lawnmower','Tool',1,{'price':'$150'},'Excellent','2012‐01‐05'),\n",
    "(2,'Lawnmower','Tool',2,{'price':'$370'},'Fair','2012‐04‐01'),\n",
    "(3,'Bike','Vehicle',3,{'price':'$200'},'Good','2013‐03‐22'), \n",
    "(4,'Drill','Tool',4,{'price':'$100'},'Good','2013‐10‐28'), \n",
    "(5,'Scarifier','Tool',5,{'price':'$200'},'Average','2013‐09‐14'),\n",
    "(6,'Sprinkler','Tool',1,{'price':'$80'},'Good','2014‐01‐06')\n",
    "]\n",
    "\n",
    "'''\n",
    "Unlike dbm module that only work on on string data type, pickle allows the data to be\n",
    "of any type, because it converts them into python binaries (serialization). And when\n",
    "retrieving the data, it converts them back into whatever type they were.\n",
    "The only issue with pickle is that  to access data you have to read the whole db file.\n",
    "'''\n",
    "try: # writing data\n",
    "    with open('items.pickle', 'wb') as db: # have to use binary file modes\n",
    "        print('converting from python data type to binary (serializing data)')\n",
    "        print('saving python binary to pickle file')\n",
    "        pickle.dump(items, db)\n",
    "        print('done')\n",
    "except:\n",
    "    pass\n",
    "    \n",
    "try: # retrieving data\n",
    "    with open('items.pickle', 'rb') as db:# read as binary file\n",
    "        print('Retrieving python binary data from pickle file')\n",
    "        print('converting back to python data type')\n",
    "        itemCopy = pickle.load(db) # data are stored in a .pickle file\n",
    "        print('finished')\n",
    "except:\n",
    "    pass\n",
    "    \n",
    "print(itemCopy)"
   ]
  },
  {
   "cell_type": "code",
   "execution_count": null,
   "metadata": {},
   "outputs": [],
   "source": []
  }
 ],
 "metadata": {
  "kernelspec": {
   "display_name": "Python 3",
   "language": "python",
   "name": "python3"
  },
  "language_info": {
   "codemirror_mode": {
    "name": "ipython",
    "version": 3
   },
   "file_extension": ".py",
   "mimetype": "text/x-python",
   "name": "python",
   "nbconvert_exporter": "python",
   "pygments_lexer": "ipython3",
   "version": "3.7.4"
  }
 },
 "nbformat": 4,
 "nbformat_minor": 2
}
