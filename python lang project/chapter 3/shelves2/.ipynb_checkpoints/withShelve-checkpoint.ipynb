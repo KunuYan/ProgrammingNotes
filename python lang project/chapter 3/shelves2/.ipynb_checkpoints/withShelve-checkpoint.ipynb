{
 "cells": [
  {
   "cell_type": "code",
   "execution_count": 6,
   "metadata": {},
   "outputs": [],
   "source": [
    "import shelve\n",
    "'''\n",
    "working with shelve is easy. Shelve allows random access like dbm and\n",
    "allow you to save all type of data like pickle(even python objects). ofcourse\n",
    "this has security risks.\n",
    "'''\n",
    "\n",
    "# first create a shelve data file, called a shelf\n",
    "shelf = shelve.open('fundata.shelve', 'c') # opened in create mode\n",
    "\n",
    "# add some data to shelf\n",
    "shelf['tuple'] = (1,2,'a','b',True,False) \n",
    "shelf['lists'] = [[1,2,3], [True,False], [3.14159, -66]]\n",
    "\n",
    "\n",
    "x = 5\n",
    "\n",
    "def func():\n",
    "    return x * 3\n",
    "\n",
    "shelf['pythonObjects'] = [x, func()]\n",
    "\n",
    "shelf['pythonObjects']\n",
    "\n",
    "shelf.close() # to make the change permenant you must close the shelf"
   ]
  },
  {
   "cell_type": "code",
   "execution_count": 11,
   "metadata": {},
   "outputs": [
    {
     "name": "stdout",
     "output_type": "stream",
     "text": [
      "1 2\n",
      "a b\n",
      "1 2\n"
     ]
    }
   ],
   "source": [
    "class Test:\n",
    "    def __init__(self,x,y):\n",
    "        self.x = x\n",
    "        self.y = y\n",
    "    \n",
    "    def show(self):\n",
    "        print(self.x, self.y)\n",
    "        \n",
    "shelf = shelve.open('test.shelve', 'c')\n",
    "a = Test(1,2)\n",
    "b = Test('a','b')\n",
    "\n",
    "a.show()\n",
    "b.show()\n",
    "shelf\n",
    "\n",
    "shelf['12'] = a\n",
    "shelf['ab'] = b\n",
    "shelf['ab']\n",
    "\n",
    "c = shelf['12']\n",
    "c.show()\n",
    "\n",
    "shelf.close()\n",
    "\n",
    "'''\n",
    "this can cause issues if the class definition  used by shelve module is deferent\n",
    "from the module that it reading the shelve data. Next time make the class\n",
    "a module the use it when creating and reading shelve file.\n",
    "'''"
   ]
  },
  {
   "cell_type": "code",
   "execution_count": null,
   "metadata": {},
   "outputs": [],
   "source": []
  }
 ],
 "metadata": {
  "kernelspec": {
   "display_name": "Python 3",
   "language": "python",
   "name": "python3"
  },
  "language_info": {
   "codemirror_mode": {
    "name": "ipython",
    "version": 3
   },
   "file_extension": ".py",
   "mimetype": "text/x-python",
   "name": "python",
   "nbconvert_exporter": "python",
   "pygments_lexer": "ipython3",
   "version": "3.7.4"
  }
 },
 "nbformat": 4,
 "nbformat_minor": 2
}
