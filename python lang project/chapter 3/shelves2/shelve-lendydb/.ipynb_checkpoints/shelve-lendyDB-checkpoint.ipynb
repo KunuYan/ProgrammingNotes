{
 "cells": [
  {
   "cell_type": "code",
   "execution_count": 4,
   "metadata": {},
   "outputs": [
    {
     "name": "stdout",
     "output_type": "stream",
     "text": [
      "Creating data files...\n",
      "reading items...\n",
      "[['1', 'Lawnmower', 'Tool', '1', '$150', 'Excellent', '2012‐01‐05'], ['2', 'Lawnmower', 'Tool', '2', '$370', 'Fair', '2012‐04‐01'], ['3', 'Bike', 'Vehicle', '3', '$200', 'Good', '2013‐03‐22'], ['4', 'Drill', 'Tool', '4', '$100', 'Good', '2013‐10‐28'], ['5', 'Scarifier', 'Tool', '5', '$200', 'Average', '2013‐09‐14'], ['6', 'Sprinkler', 'Tool', '1', '$80', 'Good', '2014‐01‐06']]\n",
      "reading members...\n",
      "[['1', 'Fred', 'fred@lendylib.org'], ['2', 'Mike', 'mike@gmail.com'], ['3', 'Joe', 'joe@joesmail.com'], ['4', 'Rob', 'rjb@somcorp.com'], ['5', 'Anne', 'annie@bigbiz.com']]\n",
      "reading loans...\n",
      "[['1', '1', '3', '4/1/2012', '4/26/2012'], ['2', '2', '5', '9/5/2012', '1/5/2013'], ['3', '3', '4', '7/3/2013', '7/22/2013'], ['4', '4', '1', '11/19/2013', '11/29/2013'], ['5', '5', '2', '12/5/2013', 'None']]\n"
     ]
    }
   ],
   "source": [
    "import shelve\n",
    "\n",
    "# ID, Name, Description, OwnerID, Price, Condition, DateRegistered \n",
    "items = [\n",
    "['1','Lawnmower','Tool','1','$150','Excellent','2012‐01‐05'],\n",
    "['2','Lawnmower','Tool','2','$370','Fair','2012‐04‐01'],\n",
    "['3','Bike','Vehicle','3','$200','Good','2013‐03‐22'], \n",
    "['4','Drill','Tool','4','$100','Good','2013‐10‐28'], \n",
    "['5','Scarifier','Tool','5','$200','Average','2013‐09‐14'],\n",
    "['6','Sprinkler','Tool','1','$80','Good','2014‐01‐06'] \n",
    "]\n",
    "\n",
    "# ID, Name, Email \n",
    "members = [\n",
    "['1', 'Fred', 'fred@lendylib.org'],\n",
    "['2', 'Mike', 'mike@gmail.com'],\n",
    "['3', 'Joe', 'joe@joesmail.com'],\n",
    "['4', 'Rob', 'rjb@somcorp.com'],\n",
    "['5', 'Anne', 'annie@bigbiz.com'],\n",
    "] \n",
    "\n",
    "# ID, ItemID, BorrowerID, DateBorrowed, DateReturned \n",
    "loans = [\n",
    "['1','1','3','4/1/2012','4/26/2012'],\n",
    "['2','2','5','9/5/2012','1/5/2013'],\n",
    "['3','3','4','7/3/2013','7/22/2013'],\n",
    "['4','4','1','11/19/2013','11/29/2013'], \n",
    "['5','5','2','12/5/2013','None']\n",
    "] \n",
    "\n",
    "def createDB(data, shelfname):\n",
    "    try:\n",
    "        shelf = shelve.open(shelfname, 'c')\n",
    "        for datum in data:\n",
    "            shelf[datum[0]] = datum\n",
    "    finally:\n",
    "        shelf.close()\n",
    "        \n",
    "def readDB(shelfname):\n",
    "    try:\n",
    "        shelf = shelve.open(shelfname, 'r')\n",
    "        return [shelf[key] for key in shelf]\n",
    "    finally:\n",
    "        shelf.close()\n",
    "            \n",
    "def main():\n",
    "    print('Creating data files...')\n",
    "    createDB(items, 'itemshelf')\n",
    "    createDB(members, 'membershelf')\n",
    "    createDB(loans, 'loanshelf')\n",
    "        \n",
    "    print('reading items...')\n",
    "    print(readDB('itemshelf'))\n",
    "    print('reading members...')\n",
    "    print(readDB('membershelf'))\n",
    "    print('reading loans...')\n",
    "    print(readDB('loanshelf'))\n",
    "        \n",
    "if __name__ == \"__main__\": main()"
   ]
  },
  {
   "cell_type": "code",
   "execution_count": 6,
   "metadata": {},
   "outputs": [
    {
     "name": "stdout",
     "output_type": "stream",
     "text": [
      "['6', '2', '1', '4/5/2014']\n"
     ]
    }
   ],
   "source": [
    "# add new loan record\n",
    "loans = shelve.open('loanshelf', 'w')\n",
    "key = int(max(loans.keys())) + 1\n",
    "newloan = [str(key),'2','1','4/5/2014']\n",
    "loans[str(key)] = newloan\n",
    "print(loans[str(key)])"
   ]
  },
  {
   "cell_type": "code",
   "execution_count": 7,
   "metadata": {},
   "outputs": [],
   "source": [
    "loans.close()"
   ]
  },
  {
   "cell_type": "code",
   "execution_count": null,
   "metadata": {},
   "outputs": [],
   "source": [
    "`"
   ]
  }
 ],
 "metadata": {
  "kernelspec": {
   "display_name": "Python 3",
   "language": "python",
   "name": "python3"
  },
  "language_info": {
   "codemirror_mode": {
    "name": "ipython",
    "version": 3
   },
   "file_extension": ".py",
   "mimetype": "text/x-python",
   "name": "python",
   "nbconvert_exporter": "python",
   "pygments_lexer": "ipython3",
   "version": "3.7.4"
  }
 },
 "nbformat": 4,
 "nbformat_minor": 2
}
