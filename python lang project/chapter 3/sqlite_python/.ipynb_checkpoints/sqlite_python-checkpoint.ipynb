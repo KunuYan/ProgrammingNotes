{
 "cells": [
  {
   "cell_type": "code",
   "execution_count": 19,
   "metadata": {},
   "outputs": [
    {
     "name": "stdout",
     "output_type": "stream",
     "text": [
      "<sqlite3.Cursor object at 0x7fb87c2e9570>\n"
     ]
    }
   ],
   "source": [
    "import sqlite3\n",
    "\n",
    "\"\"\"\n",
    "Most database functionality with python is standilized,\n",
    "Some but they all use .connect (some require username, password, port number\n",
    "or ip adress)\n",
    "\"\"\"\n",
    "\n",
    "db = sqlite3.connect(':memory') # opened a db in memory, if want to use actuall db, pass in sql file location instead\n",
    "\n",
    "\"\"\"\n",
    "We use cursor to access the database(cause data base can be reas=lly large\n",
    "to store in memory), cursor is a python iterator. We access data one row at a time with it.\n",
    "\"\"\"\n",
    "\n",
    "# cur = db.cursor()\n",
    "\n",
    "# cur.execute(\"CREATE TABLE test(id,name)\") # This is how we pass sql query to a database from python\n",
    "\n",
    "#cur.execute(\n",
    "    #\"insert into test values (1,'Alan')\")\n",
    "#cur.execute(\n",
    "    #\"insert into test values (2,'Laura')\")\n",
    "#cur.execute(\n",
    "    #\"insert into test values (3,'Jennifer')\")\n",
    "    \n",
    "#cur.execute(\"SELECT * FROM test\")\n",
    "    # the sql querry is ran, the data returned is store as sqlite3.Cursor object\n",
    "\n",
    "#print(cur.fetchall())\n",
    "    # cur.fetchall(), takes all the data from SELECT that we requested and are stored as sqlite3.Cursor object\n",
    "    # it the convert them into python objects\n",
    "\n",
    "    \n"
   ]
  },
  {
   "cell_type": "code",
   "execution_count": 20,
   "metadata": {},
   "outputs": [
    {
     "ename": "NameError",
     "evalue": "name 'findData' is not defined",
     "output_type": "error",
     "traceback": [
      "\u001b[0;31m---------------------------------------------------------------------------\u001b[0m",
      "\u001b[0;31mNameError\u001b[0m                                 Traceback (most recent call last)",
      "\u001b[0;32m<ipython-input-20-8660ceae13a2>\u001b[0m in \u001b[0;36m<module>\u001b[0;34m\u001b[0m\n\u001b[1;32m      4\u001b[0m     \u001b[0;32mreturn\u001b[0m \u001b[0mcur\u001b[0m\u001b[0;34m.\u001b[0m\u001b[0mfetchall\u001b[0m\u001b[0;34m(\u001b[0m\u001b[0;34m)\u001b[0m\u001b[0;34m\u001b[0m\u001b[0;34m\u001b[0m\u001b[0m\n\u001b[1;32m      5\u001b[0m \u001b[0;34m\u001b[0m\u001b[0m\n\u001b[0;32m----> 6\u001b[0;31m \u001b[0mfindData\u001b[0m\u001b[0;34m(\u001b[0m\u001b[0mcur\u001b[0m\u001b[0;34m,\u001b[0m \u001b[0;34m'A%'\u001b[0m\u001b[0;34m)\u001b[0m\u001b[0;34m\u001b[0m\u001b[0;34m\u001b[0m\u001b[0m\n\u001b[0m",
      "\u001b[0;31mNameError\u001b[0m: name 'findData' is not defined"
     ]
    }
   ],
   "source": [
    "def findData(cursor, astring):\n",
    "    cursor.execute(\n",
    "        \"SELECT * FROM test WHERE name like ?\",(astring,))\n",
    "    return cur.fetchall()\n",
    "\n",
    "findData(cur, 'A%')"
   ]
  },
  {
   "cell_type": "code",
   "execution_count": null,
   "metadata": {},
   "outputs": [],
   "source": []
  }
 ],
 "metadata": {
  "kernelspec": {
   "display_name": "Python 3",
   "language": "python",
   "name": "python3"
  },
  "language_info": {
   "codemirror_mode": {
    "name": "ipython",
    "version": 3
   },
   "file_extension": ".py",
   "mimetype": "text/x-python",
   "name": "python",
   "nbconvert_exporter": "python",
   "pygments_lexer": "ipython3",
   "version": "3.7.4"
  }
 },
 "nbformat": 4,
 "nbformat_minor": 2
}
