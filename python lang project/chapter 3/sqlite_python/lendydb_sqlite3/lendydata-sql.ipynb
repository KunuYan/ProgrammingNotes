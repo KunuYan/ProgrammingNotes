{
 "cells": [
  {
   "cell_type": "code",
   "execution_count": 8,
   "metadata": {},
   "outputs": [
    {
     "name": "stdout",
     "output_type": "stream",
     "text": [
      "<sqlite3.Connection object at 0x7f7188a6a2d0>\n",
      "('Fred', 'Mike', 'Joe', 'Rob', 'Anne', 'Fred')\n",
      "i fetched:  [(1,), (2,), (3,), (4,), (5,), (6,)]\n",
      "item is : (1,)\n",
      "#########\n",
      "id of owned item is:  1\n",
      "owners name is : Fred\n",
      "item is : (2,)\n",
      "#########\n",
      "id of owned item is:  2\n",
      "owners name is : Mike\n",
      "item is : (3,)\n",
      "#########\n",
      "id of owned item is:  3\n",
      "owners name is : Joe\n",
      "item is : (4,)\n",
      "#########\n",
      "id of owned item is:  4\n",
      "owners name is : Rob\n",
      "item is : (5,)\n",
      "#########\n",
      "id of owned item is:  5\n",
      "owners name is : Anne\n",
      "item is : (6,)\n",
      "#########\n",
      "id of owned item is:  6\n",
      "owners name is : Fred\n"
     ]
    }
   ],
   "source": [
    "import sqlite3\n",
    "\n",
    "# member table\n",
    "members = [\n",
    "['Fred', 'fred@lendylib.org'],\n",
    "['Mike', 'mike@gmail.com'],\n",
    "['Joe', 'joe@joesmail.com'],\n",
    "['Rob', 'rjb@somcorp.com'],\n",
    "['Anne', 'annie@bigbiz.com'],\n",
    "]\n",
    "\n",
    "member_sql = '''INSERT INTO member (Name, Email) VALUES (?, ?)'''\n",
    "\n",
    "# items table\n",
    "items = [\n",
    "['Lawnmower','Tool', 0, 150,'Excellent', '2012‐01‐05'],\n",
    "['Lawnmower','Tool', 0, 370,'Fair', '2012‐04‐01'],\n",
    "['Bike', 'Vehicle', 0, 200,'Good', '2013‐03‐22'],\n",
    "['Drill', 'Tool', 0, 100,'Good', '2013‐10‐28'],\n",
    "['Scarifier','Tool', 0, 200,'Average', '2013‐09‐14'],\n",
    "['Sprinkler','Tool', 0, 80,'Good', '2014‐01‐06']\n",
    "]\n",
    "\n",
    "item_sql = '''\n",
    "insert into item\n",
    "(Name, Description, ownerID, Price, Condition, DateRegistered)\n",
    "values (?, ?, ?, ?, ?, ?)'''\n",
    "set_owner_sql = '''\n",
    "update item\n",
    "set OwnerID = (SELECT ROWID from member where %s=?)\n",
    "where item.id = ?\n",
    "'''\n",
    "\n",
    "# loans table\n",
    "loans = [\n",
    "[1,3,'2012‐01‐04','2012‐04‐26'],\n",
    "[2,5,'2012‐09‐05','2013‐01‐05'],\n",
    "[3,4,'2013‐07‐03','2013‐07‐22'],\n",
    "[4,1,'2013‐11‐19','2013‐11‐29'],\n",
    "[5,2,'2013‐12‐05', None]\n",
    "]\n",
    "\n",
    "loan_sql = '''\n",
    "insert into loan\n",
    "(itemID, BorrowerID, DateBorrowed, DateReturned )\n",
    "values (?, ?, ?, ?)'''\n",
    "\n",
    "db = sqlite3.connect('lendydb')\n",
    "print(db)\n",
    "cur = db.cursor()\n",
    "\n",
    "cur.executemany(member_sql, members) # takes the sql script(python string in this case) and data\n",
    "cur.executemany(item_sql, items) #give it list of data, it will loop through data on it's own\n",
    "cur.executemany(loan_sql, loans)\n",
    "\n",
    "owners = ('Fred','Mike','Joe','Rob','Anne','Fred')\n",
    "print(owners)\n",
    "print('i fetched: ', cur.execute(\"select ROWID from item\").fetchall())\n",
    "for item in cur.execute(\"select ROWID from item\").fetchall():\n",
    "    print('item is :',item)\n",
    "    itemID = item[0]\n",
    "    print('#########')\n",
    "    print('id of owned item is: ',itemID)\n",
    "    print('owners name is :',owners[itemID-1])\n",
    "    # this line is not working\n",
    "    cur.execute(set_owner_sql % ('Name'), (owners[itemID-1], itemID))\n",
    "'''\n",
    "update item\n",
    "set OwnerID = (SELECT ROWID from member where name = ?)\n",
    "where item.id = ?'''\n",
    "cur.close()\n",
    "db.commit()\n",
    "db.close()\n"
   ]
  },
  {
   "cell_type": "code",
   "execution_count": 7,
   "metadata": {},
   "outputs": [
    {
     "name": "stdout",
     "output_type": "stream",
     "text": [
      "<class 'datetime.date'>\n"
     ]
    }
   ],
   "source": [
    "import datetime as dt\n",
    "today = dt.date.today()\n",
    "print(type(today))"
   ]
  },
  {
   "cell_type": "code",
   "execution_count": 12,
   "metadata": {},
   "outputs": [
    {
     "name": "stdout",
     "output_type": "stream",
     "text": [
      "<sqlite3.Connection object at 0x7f7188a6a490>\n",
      "('Fred', 'Mike', 'Joe', 'Rob', 'Anne', 'Fred')\n",
      "i fetched:  [(1,), (2,), (3,), (4,), (5,), (6,)]\n",
      "item is : (1,)\n",
      "#########\n",
      "id of owned item is:  1\n",
      "owners name is : Fred\n",
      "\n",
      "update item\n",
      "set OwnerID = (SELECT ROWID from member where Name=?)\n",
      "where item.id = ?\n",
      "\n",
      "item is : (2,)\n",
      "#########\n",
      "id of owned item is:  2\n",
      "owners name is : Mike\n",
      "\n",
      "update item\n",
      "set OwnerID = (SELECT ROWID from member where Name=?)\n",
      "where item.id = ?\n",
      "\n",
      "item is : (3,)\n",
      "#########\n",
      "id of owned item is:  3\n",
      "owners name is : Joe\n",
      "\n",
      "update item\n",
      "set OwnerID = (SELECT ROWID from member where Name=?)\n",
      "where item.id = ?\n",
      "\n",
      "item is : (4,)\n",
      "#########\n",
      "id of owned item is:  4\n",
      "owners name is : Rob\n",
      "\n",
      "update item\n",
      "set OwnerID = (SELECT ROWID from member where Name=?)\n",
      "where item.id = ?\n",
      "\n",
      "item is : (5,)\n",
      "#########\n",
      "id of owned item is:  5\n",
      "owners name is : Anne\n",
      "\n",
      "update item\n",
      "set OwnerID = (SELECT ROWID from member where Name=?)\n",
      "where item.id = ?\n",
      "\n",
      "item is : (6,)\n",
      "#########\n",
      "id of owned item is:  6\n",
      "owners name is : Fred\n",
      "\n",
      "update item\n",
      "set OwnerID = (SELECT ROWID from member where Name=?)\n",
      "where item.id = ?\n",
      "\n"
     ]
    }
   ],
   "source": [
    "db = sqlite3.connect('lendydb')\n",
    "print(db)\n",
    "cur = db.cursor()\n",
    "\n",
    "owners = ('Fred','Mike','Joe','Rob','Anne','Fred')\n",
    "print(owners)\n",
    "print('i fetched: ', cur.execute(\"select ROWID from item\").fetchall())\n",
    "for item in cur.execute(\"select ROWID from item\").fetchall():\n",
    "    print('item is :',item)\n",
    "    itemID = item[0]\n",
    "    print('#########')\n",
    "    print('id of owned item is: ',itemID)\n",
    "    print('owners name is :',owners[itemID-1])\n",
    "    # this line is not working\n",
    "    cur.execute(set_owner_sql % ('Name'), (owners[itemID-1], itemID))\n",
    "    print(set_owner_sql % ('Name'))\n",
    "'''\n",
    "update item\n",
    "set OwnerID = (SELECT ROWID from member where name = ?)\n",
    "where item.id = ?'''\n",
    "cur.close()\n",
    "db.commit()\n",
    "db.close()\n"
   ]
  },
  {
   "cell_type": "code",
   "execution_count": 10,
   "metadata": {},
   "outputs": [
    {
     "name": "stdout",
     "output_type": "stream",
     "text": [
      "\n",
      "update item\n",
      "set OwnerID = (SELECT ROWID from member where Name=?)\n",
      "where item.id = ?\n",
      "\n"
     ]
    }
   ],
   "source": [
    "print(set_owner_sql % ('Name'))"
   ]
  },
  {
   "cell_type": "code",
   "execution_count": null,
   "metadata": {},
   "outputs": [],
   "source": [
    "cur.execute(set_owner_sql % ('Name'), (owners[itemID-1], itemID))"
   ]
  }
 ],
 "metadata": {
  "kernelspec": {
   "display_name": "Python 3",
   "language": "python",
   "name": "python3"
  },
  "language_info": {
   "codemirror_mode": {
    "name": "ipython",
    "version": 3
   },
   "file_extension": ".py",
   "mimetype": "text/x-python",
   "name": "python",
   "nbconvert_exporter": "python",
   "pygments_lexer": "ipython3",
   "version": "3.7.4"
  }
 },
 "nbformat": 4,
 "nbformat_minor": 2
}
